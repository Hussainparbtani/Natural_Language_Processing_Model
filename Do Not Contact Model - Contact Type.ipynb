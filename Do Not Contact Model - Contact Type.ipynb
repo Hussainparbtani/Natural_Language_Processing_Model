{
 "cells": [
  {
   "cell_type": "code",
   "execution_count": 1,
   "metadata": {},
   "outputs": [],
   "source": [
    "import pandas as pd\n",
    "from sqlalchemy import create_engine"
   ]
  },
  {
   "cell_type": "code",
   "execution_count": 5,
   "metadata": {},
   "outputs": [],
   "source": [
    "#credentials for MYSQL\n",
    "Engine = create_engine(\"mysql+mysqldb://username:\"+'password'+\"databasename\"+\"?charset=utf8\") \n",
    "\n",
    "#message_body = text, dnc_intent = type of do not contact (Sms,Calls,SmsandCalls)\n",
    "sql1=\"\"\"select message_body, dnc_intent from sms_message sms where direction = 1 and dnc_intent not like 'None' \"\"\"\n",
    "\n",
    "#converting sql query into dataframe\n",
    "sms = pd.read_sql(sql1,Engine)"
   ]
  },
  {
   "cell_type": "code",
   "execution_count": 7,
   "metadata": {},
   "outputs": [
    {
     "data": {
      "text/html": [
       "<div>\n",
       "<style scoped>\n",
       "    .dataframe tbody tr th:only-of-type {\n",
       "        vertical-align: middle;\n",
       "    }\n",
       "\n",
       "    .dataframe tbody tr th {\n",
       "        vertical-align: top;\n",
       "    }\n",
       "\n",
       "    .dataframe thead th {\n",
       "        text-align: right;\n",
       "    }\n",
       "</style>\n",
       "<table border=\"1\" class=\"dataframe\">\n",
       "  <thead>\n",
       "    <tr style=\"text-align: right;\">\n",
       "      <th></th>\n",
       "      <th>message_body</th>\n",
       "      <th>dnc_intent</th>\n",
       "    </tr>\n",
       "  </thead>\n",
       "  <tbody>\n",
       "    <tr>\n",
       "      <th>0</th>\n",
       "      <td>Please text me.</td>\n",
       "      <td>Sms</td>\n",
       "    </tr>\n",
       "    <tr>\n",
       "      <th>1</th>\n",
       "      <td>Voy en camino.</td>\n",
       "      <td>Calls</td>\n",
       "    </tr>\n",
       "    <tr>\n",
       "      <th>2</th>\n",
       "      <td>Stop</td>\n",
       "      <td>Sms</td>\n",
       "    </tr>\n",
       "    <tr>\n",
       "      <th>3</th>\n",
       "      <td>Stop</td>\n",
       "      <td>Sms</td>\n",
       "    </tr>\n",
       "    <tr>\n",
       "      <th>4</th>\n",
       "      <td>Please text me.</td>\n",
       "      <td>Sms</td>\n",
       "    </tr>\n",
       "  </tbody>\n",
       "</table>\n",
       "</div>"
      ],
      "text/plain": [
       "      message_body dnc_intent\n",
       "0  Please text me.        Sms\n",
       "1   Voy en camino.      Calls\n",
       "2             Stop        Sms\n",
       "3            Stop         Sms\n",
       "4  Please text me.        Sms"
      ]
     },
     "execution_count": 7,
     "metadata": {},
     "output_type": "execute_result"
    }
   ],
   "source": [
    "sms.head()"
   ]
  },
  {
   "cell_type": "code",
   "execution_count": 8,
   "metadata": {},
   "outputs": [
    {
     "name": "stdout",
     "output_type": "stream",
     "text": [
      "<class 'pandas.core.frame.DataFrame'>\n",
      "RangeIndex: 9170 entries, 0 to 9169\n",
      "Data columns (total 2 columns):\n",
      "message_body    9170 non-null object\n",
      "dnc_intent      9170 non-null object\n",
      "dtypes: object(2)\n",
      "memory usage: 143.4+ KB\n"
     ]
    }
   ],
   "source": [
    "sms.info()"
   ]
  },
  {
   "cell_type": "code",
   "execution_count": 9,
   "metadata": {},
   "outputs": [
    {
     "data": {
      "text/html": [
       "<div>\n",
       "<style scoped>\n",
       "    .dataframe tbody tr th:only-of-type {\n",
       "        vertical-align: middle;\n",
       "    }\n",
       "\n",
       "    .dataframe tbody tr th {\n",
       "        vertical-align: top;\n",
       "    }\n",
       "\n",
       "    .dataframe thead th {\n",
       "        text-align: right;\n",
       "    }\n",
       "</style>\n",
       "<table border=\"1\" class=\"dataframe\">\n",
       "  <thead>\n",
       "    <tr style=\"text-align: right;\">\n",
       "      <th></th>\n",
       "      <th>message_body</th>\n",
       "      <th>dnc_intent</th>\n",
       "    </tr>\n",
       "  </thead>\n",
       "  <tbody>\n",
       "    <tr>\n",
       "      <th>count</th>\n",
       "      <td>9170</td>\n",
       "      <td>9170</td>\n",
       "    </tr>\n",
       "    <tr>\n",
       "      <th>unique</th>\n",
       "      <td>581</td>\n",
       "      <td>3</td>\n",
       "    </tr>\n",
       "    <tr>\n",
       "      <th>top</th>\n",
       "      <td>Stop</td>\n",
       "      <td>Sms</td>\n",
       "    </tr>\n",
       "    <tr>\n",
       "      <th>freq</th>\n",
       "      <td>4825</td>\n",
       "      <td>8715</td>\n",
       "    </tr>\n",
       "  </tbody>\n",
       "</table>\n",
       "</div>"
      ],
      "text/plain": [
       "       message_body dnc_intent\n",
       "count          9170       9170\n",
       "unique          581          3\n",
       "top            Stop        Sms\n",
       "freq           4825       8715"
      ]
     },
     "execution_count": 9,
     "metadata": {},
     "output_type": "execute_result"
    }
   ],
   "source": [
    "sms.describe()"
   ]
  },
  {
   "cell_type": "code",
   "execution_count": 10,
   "metadata": {},
   "outputs": [],
   "source": [
    "sms['text length'] = sms['message_body'].apply(len) #length of text message"
   ]
  },
  {
   "cell_type": "code",
   "execution_count": 11,
   "metadata": {},
   "outputs": [],
   "source": [
    "import matplotlib.pyplot as plt\n",
    "import seaborn as sns\n",
    "sns.set_style('white')\n",
    "%matplotlib inline"
   ]
  },
  {
   "cell_type": "code",
   "execution_count": 15,
   "metadata": {},
   "outputs": [
    {
     "data": {
      "text/plain": [
       "<seaborn.axisgrid.FacetGrid at 0x1f204fcc400>"
      ]
     },
     "execution_count": 15,
     "metadata": {},
     "output_type": "execute_result"
    },
    {
     "data": {
      "image/png": "[encoded data removed]",
      "text/plain": [
       "<matplotlib.figure.Figure at 0x1f2055be390>"
      ]
     },
     "metadata": {},
     "output_type": "display_data"
    }
   ],
   "source": [
    "g = sns.FacetGrid(sms,col='dnc_intent')\n",
    "g.map(plt.hist,'text length')"
   ]
  },
  {
   "cell_type": "code",
   "execution_count": 16,
   "metadata": {},
   "outputs": [
    {
     "data": {
      "text/plain": [
       "<matplotlib.axes._subplots.AxesSubplot at 0x1f2058697f0>"
      ]
     },
     "execution_count": 16,
     "metadata": {},
     "output_type": "execute_result"
    },
    {
     "data": {
      "image/png": "[encoded data removed]",
      "text/plain": [
       "<matplotlib.figure.Figure at 0x1f2057df898>"
      ]
     },
     "metadata": {},
     "output_type": "display_data"
    }
   ],
   "source": [
    "sns.boxplot(x='dnc_intent',y='text length',data=sms,palette='rainbow')"
   ]
  },
  {
   "cell_type": "code",
   "execution_count": 17,
   "metadata": {},
   "outputs": [
    {
     "data": {
      "text/plain": [
       "<matplotlib.axes._subplots.AxesSubplot at 0x1f204fb2dd8>"
      ]
     },
     "execution_count": 17,
     "metadata": {},
     "output_type": "execute_result"
    },
    {
     "data": {
      "image/png": "[encoded data removed]",
      "text/plain": [
       "<matplotlib.figure.Figure at 0x1f205843d30>"
      ]
     },
     "metadata": {},
     "output_type": "display_data"
    }
   ],
   "source": [
    "sns.countplot(x='dnc_intent',data=sms,palette='rainbow')"
   ]
  },
  {
   "cell_type": "code",
   "execution_count": 18,
   "metadata": {},
   "outputs": [
    {
     "data": {
      "text/html": [
       "<div>\n",
       "<style scoped>\n",
       "    .dataframe tbody tr th:only-of-type {\n",
       "        vertical-align: middle;\n",
       "    }\n",
       "\n",
       "    .dataframe tbody tr th {\n",
       "        vertical-align: top;\n",
       "    }\n",
       "\n",
       "    .dataframe thead th {\n",
       "        text-align: right;\n",
       "    }\n",
       "</style>\n",
       "<table border=\"1\" class=\"dataframe\">\n",
       "  <thead>\n",
       "    <tr style=\"text-align: right;\">\n",
       "      <th></th>\n",
       "      <th>text length</th>\n",
       "    </tr>\n",
       "    <tr>\n",
       "      <th>dnc_intent</th>\n",
       "      <th></th>\n",
       "    </tr>\n",
       "  </thead>\n",
       "  <tbody>\n",
       "    <tr>\n",
       "      <th>Calls</th>\n",
       "      <td>24.433090</td>\n",
       "    </tr>\n",
       "    <tr>\n",
       "      <th>Sms</th>\n",
       "      <td>4.432129</td>\n",
       "    </tr>\n",
       "    <tr>\n",
       "      <th>SmsAndCalls</th>\n",
       "      <td>31.863636</td>\n",
       "    </tr>\n",
       "  </tbody>\n",
       "</table>\n",
       "</div>"
      ],
      "text/plain": [
       "             text length\n",
       "dnc_intent              \n",
       "Calls          24.433090\n",
       "Sms             4.432129\n",
       "SmsAndCalls    31.863636"
      ]
     },
     "execution_count": 18,
     "metadata": {},
     "output_type": "execute_result"
    }
   ],
   "source": [
    "stars = sms.groupby('dnc_intent').mean()\n",
    "stars"
   ]
  },
  {
   "cell_type": "code",
   "execution_count": 19,
   "metadata": {},
   "outputs": [],
   "source": [
    "from sklearn.feature_extraction.text import CountVectorizer\n",
    "cv = CountVectorizer() #intial model that will help convert message body into something a statistical model can take in"
   ]
  },
  {
   "cell_type": "code",
   "execution_count": 20,
   "metadata": {},
   "outputs": [],
   "source": [
    "from sklearn.naive_bayes import MultinomialNB\n",
    "nb = MultinomialNB() #model in use"
   ]
  },
  {
   "cell_type": "code",
   "execution_count": 21,
   "metadata": {},
   "outputs": [],
   "source": [
    "from sklearn.feature_extraction.text import  TfidfTransformer"
   ]
  },
  {
   "cell_type": "code",
   "execution_count": 22,
   "metadata": {},
   "outputs": [],
   "source": [
    "from sklearn.pipeline import Pipeline"
   ]
  },
  {
   "cell_type": "code",
   "execution_count": 23,
   "metadata": {},
   "outputs": [],
   "source": [
    "pipeline = Pipeline([\n",
    "    ('bow', CountVectorizer()),  # strings to token integer counts\n",
    "    ('tfidf', TfidfTransformer()),  # integer counts to weighted TF-IDF scores\n",
    "    ('classifier', MultinomialNB()),  # train on TF-IDF vectors w/ Naive Bayes classifier\n",
    "])"
   ]
  },
  {
   "cell_type": "code",
   "execution_count": 26,
   "metadata": {},
   "outputs": [],
   "source": [
    "from sklearn.model_selection import train_test_split\n",
    "X = sms['message_body']\n",
    "y = sms['dnc_intent']\n",
    "X_train, X_test, y_train, y_test = train_test_split(X, y,test_size=0.3)"
   ]
  },
  {
   "cell_type": "code",
   "execution_count": 27,
   "metadata": {},
   "outputs": [
    {
     "data": {
      "text/plain": [
       "Pipeline(memory=None,\n",
       "     steps=[('bow', CountVectorizer(analyzer='word', binary=False, decode_error='strict',\n",
       "        dtype=<class 'numpy.int64'>, encoding='utf-8', input='content',\n",
       "        lowercase=True, max_df=1.0, max_features=None, min_df=1,\n",
       "        ngram_range=(1, 1), preprocessor=None, stop_words=None,\n",
       "        strip_...f=False, use_idf=True)), ('classifier', MultinomialNB(alpha=1.0, class_prior=None, fit_prior=True))])"
      ]
     },
     "execution_count": 27,
     "metadata": {},
     "output_type": "execute_result"
    }
   ],
   "source": [
    "# May take some time\n",
    "pipeline.fit(X_train,y_train)"
   ]
  },
  {
   "cell_type": "code",
   "execution_count": 28,
   "metadata": {},
   "outputs": [],
   "source": [
    "predictions = pipeline.predict(X_test)\n",
    "prediction_prob = pipeline.predict_proba(X_test)"
   ]
  },
  {
   "cell_type": "code",
   "execution_count": 30,
   "metadata": {},
   "outputs": [
    {
     "name": "stdout",
     "output_type": "stream",
     "text": [
      "[[ 115    1    0]\n",
      " [  13 2608    0]\n",
      " [  13    0    1]]\n",
      "             precision    recall  f1-score   support\n",
      "\n",
      "      Calls       0.82      0.99      0.89       116\n",
      "        Sms       1.00      1.00      1.00      2621\n",
      "SmsAndCalls       1.00      0.07      0.13        14\n",
      "\n",
      "avg / total       0.99      0.99      0.99      2751\n",
      "\n"
     ]
    }
   ],
   "source": [
    "from sklearn.metrics import confusion_matrix,classification_report\n",
    "print(confusion_matrix(y_test,predictions))\n",
    "print(classification_report(y_test,predictions))"
   ]
  },
  {
   "cell_type": "code",
   "execution_count": 32,
   "metadata": {},
   "outputs": [],
   "source": [
    "#Getting prediction probability for different outcomes based on model\n",
    "\n",
    "predictions_prob_call_list = []\n",
    "\n",
    "x = 0 \n",
    "for pred in prediction_prob:\n",
    "    predictions_prob_call_list.append(prediction_prob[x][0])\n",
    "    x = x + 1\n",
    "\n",
    "predictions_prob_sms_list = []\n",
    "\n",
    "x = 0 \n",
    "for pred in prediction_prob:\n",
    "    predictions_prob_sms_list.append(prediction_prob[x][1])\n",
    "    x = x + 1\n",
    "\n",
    "predictions_prob_both_list = []\n",
    "\n",
    "x = 0 \n",
    "for pred in prediction_prob:\n",
    "    predictions_prob_both_list.append(prediction_prob[x][2])\n",
    "    x = x + 1"
   ]
  },
  {
   "cell_type": "code",
   "execution_count": 33,
   "metadata": {},
   "outputs": [],
   "source": [
    "dataset = pd.DataFrame({'predictions':predictions[:],'y_test':y_test[:]}) #combing predictions with actual outcome"
   ]
  },
  {
   "cell_type": "code",
   "execution_count": 34,
   "metadata": {},
   "outputs": [],
   "source": [
    "dataset['predict_prob'] = predictions_prob_list #prediction probability"
   ]
  },
  {
   "cell_type": "code",
   "execution_count": 35,
   "metadata": {},
   "outputs": [],
   "source": [
    "dataset = pd.merge(dataset,sms,how='left',left_index=True,right_index=True) #combining model data with prediction data + actual message"
   ]
  },
  {
   "cell_type": "code",
   "execution_count": 36,
   "metadata": {},
   "outputs": [],
   "source": [
    "UnMatch_Data = dataset[dataset['predictions'] != dataset['y_test']] #Where predictions don't match actual"
   ]
  },
  {
   "cell_type": "code",
   "execution_count": 37,
   "metadata": {},
   "outputs": [
    {
     "data": {
      "text/html": [
       "<div>\n",
       "<style scoped>\n",
       "    .dataframe tbody tr th:only-of-type {\n",
       "        vertical-align: middle;\n",
       "    }\n",
       "\n",
       "    .dataframe tbody tr th {\n",
       "        vertical-align: top;\n",
       "    }\n",
       "\n",
       "    .dataframe thead th {\n",
       "        text-align: right;\n",
       "    }\n",
       "</style>\n",
       "<table border=\"1\" class=\"dataframe\">\n",
       "  <thead>\n",
       "    <tr style=\"text-align: right;\">\n",
       "      <th></th>\n",
       "      <th>predictions</th>\n",
       "      <th>y_test</th>\n",
       "      <th>predict_prob</th>\n",
       "      <th>message_body</th>\n",
       "      <th>dnc_intent</th>\n",
       "      <th>text length</th>\n",
       "    </tr>\n",
       "  </thead>\n",
       "  <tbody>\n",
       "    <tr>\n",
       "      <th>8489</th>\n",
       "      <td>Calls</td>\n",
       "      <td>SmsAndCalls</td>\n",
       "      <td>0.005707</td>\n",
       "      <td>Please delete me from your call list</td>\n",
       "      <td>SmsAndCalls</td>\n",
       "      <td>36</td>\n",
       "    </tr>\n",
       "    <tr>\n",
       "      <th>2400</th>\n",
       "      <td>Calls</td>\n",
       "      <td>SmsAndCalls</td>\n",
       "      <td>0.025628</td>\n",
       "      <td>Remove my number please</td>\n",
       "      <td>SmsAndCalls</td>\n",
       "      <td>24</td>\n",
       "    </tr>\n",
       "    <tr>\n",
       "      <th>2009</th>\n",
       "      <td>Calls</td>\n",
       "      <td>SmsAndCalls</td>\n",
       "      <td>0.005331</td>\n",
       "      <td>take me off your call list</td>\n",
       "      <td>SmsAndCalls</td>\n",
       "      <td>26</td>\n",
       "    </tr>\n",
       "    <tr>\n",
       "      <th>6114</th>\n",
       "      <td>Sms</td>\n",
       "      <td>Calls</td>\n",
       "      <td>0.998431</td>\n",
       "      <td>Stop callin</td>\n",
       "      <td>Calls</td>\n",
       "      <td>11</td>\n",
       "    </tr>\n",
       "    <tr>\n",
       "      <th>2760</th>\n",
       "      <td>Calls</td>\n",
       "      <td>Sms</td>\n",
       "      <td>0.080708</td>\n",
       "      <td>Just want the quotes sent to me .</td>\n",
       "      <td>Sms</td>\n",
       "      <td>34</td>\n",
       "    </tr>\n",
       "    <tr>\n",
       "      <th>5663</th>\n",
       "      <td>Calls</td>\n",
       "      <td>Sms</td>\n",
       "      <td>0.013823</td>\n",
       "      <td>Stop- do not text do not call!!!!!</td>\n",
       "      <td>Sms</td>\n",
       "      <td>34</td>\n",
       "    </tr>\n",
       "    <tr>\n",
       "      <th>914</th>\n",
       "      <td>Calls</td>\n",
       "      <td>Sms</td>\n",
       "      <td>0.191529</td>\n",
       "      <td>To stop last sender from sending you messages ...</td>\n",
       "      <td>Sms</td>\n",
       "      <td>63</td>\n",
       "    </tr>\n",
       "    <tr>\n",
       "      <th>3604</th>\n",
       "      <td>Calls</td>\n",
       "      <td>Sms</td>\n",
       "      <td>0.419632</td>\n",
       "      <td>Stop already have coverage</td>\n",
       "      <td>Sms</td>\n",
       "      <td>26</td>\n",
       "    </tr>\n",
       "    <tr>\n",
       "      <th>3683</th>\n",
       "      <td>Calls</td>\n",
       "      <td>Sms</td>\n",
       "      <td>0.175425</td>\n",
       "      <td>Fwd:Message received, thanks! Reply STOP to op...</td>\n",
       "      <td>Sms</td>\n",
       "      <td>64</td>\n",
       "    </tr>\n",
       "    <tr>\n",
       "      <th>8594</th>\n",
       "      <td>Calls</td>\n",
       "      <td>SmsAndCalls</td>\n",
       "      <td>0.005047</td>\n",
       "      <td>Please do not contact me again</td>\n",
       "      <td>SmsAndCalls</td>\n",
       "      <td>30</td>\n",
       "    </tr>\n",
       "    <tr>\n",
       "      <th>8610</th>\n",
       "      <td>Calls</td>\n",
       "      <td>SmsAndCalls</td>\n",
       "      <td>0.055981</td>\n",
       "      <td>Remove my number!</td>\n",
       "      <td>SmsAndCalls</td>\n",
       "      <td>17</td>\n",
       "    </tr>\n",
       "    <tr>\n",
       "      <th>8386</th>\n",
       "      <td>Calls</td>\n",
       "      <td>SmsAndCalls</td>\n",
       "      <td>0.021274</td>\n",
       "      <td>Please take me off list</td>\n",
       "      <td>SmsAndCalls</td>\n",
       "      <td>23</td>\n",
       "    </tr>\n",
       "    <tr>\n",
       "      <th>4</th>\n",
       "      <td>Calls</td>\n",
       "      <td>Sms</td>\n",
       "      <td>0.153213</td>\n",
       "      <td>Please text me.</td>\n",
       "      <td>Sms</td>\n",
       "      <td>15</td>\n",
       "    </tr>\n",
       "    <tr>\n",
       "      <th>3810</th>\n",
       "      <td>Calls</td>\n",
       "      <td>Sms</td>\n",
       "      <td>0.358456</td>\n",
       "      <td>Stop.  I'm not Nathaniel</td>\n",
       "      <td>Sms</td>\n",
       "      <td>25</td>\n",
       "    </tr>\n",
       "    <tr>\n",
       "      <th>2225</th>\n",
       "      <td>Calls</td>\n",
       "      <td>SmsAndCalls</td>\n",
       "      <td>0.005331</td>\n",
       "      <td>take me off your call list</td>\n",
       "      <td>SmsAndCalls</td>\n",
       "      <td>26</td>\n",
       "    </tr>\n",
       "    <tr>\n",
       "      <th>2128</th>\n",
       "      <td>Calls</td>\n",
       "      <td>Sms</td>\n",
       "      <td>0.335631</td>\n",
       "      <td>Not today.</td>\n",
       "      <td>Sms</td>\n",
       "      <td>10</td>\n",
       "    </tr>\n",
       "    <tr>\n",
       "      <th>8748</th>\n",
       "      <td>Calls</td>\n",
       "      <td>SmsAndCalls</td>\n",
       "      <td>0.033554</td>\n",
       "      <td>stop and I don't need any more calls</td>\n",
       "      <td>SmsAndCalls</td>\n",
       "      <td>37</td>\n",
       "    </tr>\n",
       "    <tr>\n",
       "      <th>2335</th>\n",
       "      <td>Calls</td>\n",
       "      <td>SmsAndCalls</td>\n",
       "      <td>0.054408</td>\n",
       "      <td>Stop ? now and phone calls</td>\n",
       "      <td>SmsAndCalls</td>\n",
       "      <td>27</td>\n",
       "    </tr>\n",
       "    <tr>\n",
       "      <th>2959</th>\n",
       "      <td>Calls</td>\n",
       "      <td>Sms</td>\n",
       "      <td>0.016704</td>\n",
       "      <td>Do not know you.</td>\n",
       "      <td>Sms</td>\n",
       "      <td>16</td>\n",
       "    </tr>\n",
       "    <tr>\n",
       "      <th>8685</th>\n",
       "      <td>Calls</td>\n",
       "      <td>SmsAndCalls</td>\n",
       "      <td>0.060175</td>\n",
       "      <td>Please don't contact me</td>\n",
       "      <td>SmsAndCalls</td>\n",
       "      <td>24</td>\n",
       "    </tr>\n",
       "    <tr>\n",
       "      <th>8796</th>\n",
       "      <td>Calls</td>\n",
       "      <td>Sms</td>\n",
       "      <td>0.469204</td>\n",
       "      <td>To not stop</td>\n",
       "      <td>Sms</td>\n",
       "      <td>11</td>\n",
       "    </tr>\n",
       "    <tr>\n",
       "      <th>661</th>\n",
       "      <td>Calls</td>\n",
       "      <td>SmsAndCalls</td>\n",
       "      <td>0.001003</td>\n",
       "      <td>Please do not contact me again create take me ...</td>\n",
       "      <td>SmsAndCalls</td>\n",
       "      <td>59</td>\n",
       "    </tr>\n",
       "    <tr>\n",
       "      <th>8378</th>\n",
       "      <td>Calls</td>\n",
       "      <td>SmsAndCalls</td>\n",
       "      <td>0.000435</td>\n",
       "      <td>I do not except spam calls, please remove my n...</td>\n",
       "      <td>SmsAndCalls</td>\n",
       "      <td>67</td>\n",
       "    </tr>\n",
       "    <tr>\n",
       "      <th>64</th>\n",
       "      <td>Calls</td>\n",
       "      <td>Sms</td>\n",
       "      <td>0.307398</td>\n",
       "      <td>I’m driving. Please leave a message.</td>\n",
       "      <td>Sms</td>\n",
       "      <td>36</td>\n",
       "    </tr>\n",
       "    <tr>\n",
       "      <th>70</th>\n",
       "      <td>Calls</td>\n",
       "      <td>SmsAndCalls</td>\n",
       "      <td>0.012493</td>\n",
       "      <td>I got four missed calls from this number</td>\n",
       "      <td>SmsAndCalls</td>\n",
       "      <td>41</td>\n",
       "    </tr>\n",
       "    <tr>\n",
       "      <th>5044</th>\n",
       "      <td>Calls</td>\n",
       "      <td>Sms</td>\n",
       "      <td>0.102674</td>\n",
       "      <td>Stop don't know you</td>\n",
       "      <td>Sms</td>\n",
       "      <td>19</td>\n",
       "    </tr>\n",
       "    <tr>\n",
       "      <th>3378</th>\n",
       "      <td>Calls</td>\n",
       "      <td>Sms</td>\n",
       "      <td>0.059617</td>\n",
       "      <td>Stop. Just got this message only.</td>\n",
       "      <td>Sms</td>\n",
       "      <td>33</td>\n",
       "    </tr>\n",
       "  </tbody>\n",
       "</table>\n",
       "</div>"
      ],
      "text/plain": [
       "     predictions       y_test  predict_prob  \\\n",
       "8489       Calls  SmsAndCalls      0.005707   \n",
       "2400       Calls  SmsAndCalls      0.025628   \n",
       "2009       Calls  SmsAndCalls      0.005331   \n",
       "6114         Sms        Calls      0.998431   \n",
       "2760       Calls          Sms      0.080708   \n",
       "5663       Calls          Sms      0.013823   \n",
       "914        Calls          Sms      0.191529   \n",
       "3604       Calls          Sms      0.419632   \n",
       "3683       Calls          Sms      0.175425   \n",
       "8594       Calls  SmsAndCalls      0.005047   \n",
       "8610       Calls  SmsAndCalls      0.055981   \n",
       "8386       Calls  SmsAndCalls      0.021274   \n",
       "4          Calls          Sms      0.153213   \n",
       "3810       Calls          Sms      0.358456   \n",
       "2225       Calls  SmsAndCalls      0.005331   \n",
       "2128       Calls          Sms      0.335631   \n",
       "8748       Calls  SmsAndCalls      0.033554   \n",
       "2335       Calls  SmsAndCalls      0.054408   \n",
       "2959       Calls          Sms      0.016704   \n",
       "8685       Calls  SmsAndCalls      0.060175   \n",
       "8796       Calls          Sms      0.469204   \n",
       "661        Calls  SmsAndCalls      0.001003   \n",
       "8378       Calls  SmsAndCalls      0.000435   \n",
       "64         Calls          Sms      0.307398   \n",
       "70         Calls  SmsAndCalls      0.012493   \n",
       "5044       Calls          Sms      0.102674   \n",
       "3378       Calls          Sms      0.059617   \n",
       "\n",
       "                                           message_body   dnc_intent  \\\n",
       "8489               Please delete me from your call list  SmsAndCalls   \n",
       "2400                           Remove my number please   SmsAndCalls   \n",
       "2009                         take me off your call list  SmsAndCalls   \n",
       "6114                                        Stop callin        Calls   \n",
       "2760                 Just want the quotes sent to me .           Sms   \n",
       "5663                 Stop- do not text do not call!!!!!          Sms   \n",
       "914   To stop last sender from sending you messages ...          Sms   \n",
       "3604                         Stop already have coverage          Sms   \n",
       "3683  Fwd:Message received, thanks! Reply STOP to op...          Sms   \n",
       "8594                     Please do not contact me again  SmsAndCalls   \n",
       "8610                                  Remove my number!  SmsAndCalls   \n",
       "8386                            Please take me off list  SmsAndCalls   \n",
       "4                                       Please text me.          Sms   \n",
       "3810                          Stop.  I'm not Nathaniel           Sms   \n",
       "2225                         take me off your call list  SmsAndCalls   \n",
       "2128                                         Not today.          Sms   \n",
       "8748              stop and I don't need any more calls   SmsAndCalls   \n",
       "2335                        Stop ? now and phone calls   SmsAndCalls   \n",
       "2959                                   Do not know you.          Sms   \n",
       "8685                           Please don't contact me   SmsAndCalls   \n",
       "8796                                        To not stop          Sms   \n",
       "661   Please do not contact me again create take me ...  SmsAndCalls   \n",
       "8378  I do not except spam calls, please remove my n...  SmsAndCalls   \n",
       "64                 I’m driving. Please leave a message.          Sms   \n",
       "70            I got four missed calls from this number   SmsAndCalls   \n",
       "5044                                Stop don't know you          Sms   \n",
       "3378                  Stop. Just got this message only.          Sms   \n",
       "\n",
       "      text length  \n",
       "8489           36  \n",
       "2400           24  \n",
       "2009           26  \n",
       "6114           11  \n",
       "2760           34  \n",
       "5663           34  \n",
       "914            63  \n",
       "3604           26  \n",
       "3683           64  \n",
       "8594           30  \n",
       "8610           17  \n",
       "8386           23  \n",
       "4              15  \n",
       "3810           25  \n",
       "2225           26  \n",
       "2128           10  \n",
       "8748           37  \n",
       "2335           27  \n",
       "2959           16  \n",
       "8685           24  \n",
       "8796           11  \n",
       "661            59  \n",
       "8378           67  \n",
       "64             36  \n",
       "70             41  \n",
       "5044           19  \n",
       "3378           33  "
      ]
     },
     "execution_count": 37,
     "metadata": {},
     "output_type": "execute_result"
    }
   ],
   "source": [
    "UnMatch_Data"
   ]
  },
  {
   "cell_type": "code",
   "execution_count": null,
   "metadata": {},
   "outputs": [],
   "source": []
  }
 ],
 "metadata": {
  "kernelspec": {
   "display_name": "Python 3",
   "language": "python",
   "name": "python3"
  },
  "language_info": {
   "codemirror_mode": {
    "name": "ipython",
    "version": 3
   },
   "file_extension": ".py",
   "mimetype": "text/x-python",
   "name": "python",
   "nbconvert_exporter": "python",
   "pygments_lexer": "ipython3",
   "version": "3.6.4"
  }
 },
 "nbformat": 4,
 "nbformat_minor": 2
}
